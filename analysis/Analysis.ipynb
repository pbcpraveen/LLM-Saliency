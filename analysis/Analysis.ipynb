{
 "cells": [
  {
   "cell_type": "code",
   "execution_count": 1,
   "id": "initial_id",
   "metadata": {
    "collapsed": true,
    "ExecuteTime": {
     "end_time": "2023-10-04T18:24:00.728655Z",
     "start_time": "2023-10-04T18:24:00.279148Z"
    }
   },
   "outputs": [],
   "source": [
    "import pandas as pd\n",
    "import itertools\n",
    "import sys\n",
    "import os\n",
    "from pathlib import Path\n",
    "import pickle\n",
    "import pandas as pd\n",
    "import json\n",
    "import openai\n",
    "import pickle\n",
    "import dotenv\n",
    "import random\n",
    "import time\n",
    "path = Path(os.getcwd())\n",
    "sys.path.append(str(path.parent.absolute()))\n",
    "import propmts\n",
    "from common_utils import *\n",
    "from factual_recall_qa.utils import *\n",
    "from constants import *\n",
    "\n"
   ]
  },
  {
   "cell_type": "code",
   "execution_count": 2,
   "outputs": [],
   "source": [
    "setup_directories()\n",
    "with open('../factual_recall_qa/dataset/icl_query_year_nobel_laureates.pickle', 'rb') as handle:\n",
    "    df = pickle.load(handle)\n",
    "with open('../knowledge_validation/dataset/nobel_laureates_attribute_verified.pickle', 'rb') as handle:\n",
    "    data = pickle.load(handle)\n",
    "with open('../factual_recall_qa/dataset/icl_query_place_nobel_laureates.pickle', 'rb') as handle:\n",
    "    df_place = pickle.load(handle)"
   ],
   "metadata": {
    "collapsed": false,
    "ExecuteTime": {
     "end_time": "2023-10-04T18:24:00.746337Z",
     "start_time": "2023-10-04T18:24:00.728974Z"
    }
   },
   "id": "406b786f8795604b"
  },
  {
   "cell_type": "code",
   "execution_count": 3,
   "outputs": [
    {
     "name": "stdout",
     "output_type": "stream",
     "text": [
      "year born 500 Number of correct: 460 Number of Hallucinated: 40\n",
      "year died 499 Number of correct: 4 Number of Hallucinated: 495\n",
      "year year 500 Number of correct: 498 Number of Hallucinated: 2\n"
     ]
    }
   ],
   "source": [
    "meta = metadata[NOBEL_LAUREATES]\n",
    "for concept_class in meta[TARGET_ATTRIBUTES].keys():\n",
    "    for attribute in meta[TARGET_ATTRIBUTES][concept_class]:\n",
    "        filtered_df = df[df[TARGET_ATTRIBUTES]==attribute]\n",
    "        if len(filtered_df)==0:\n",
    "            continue\n",
    "        correct  = filtered_df.apply(lambda x: score_attribute(concept_class, x[GROUND_TRUTH], x[GPT_4_RESPONSE]), axis=1)\n",
    "        print(f\"{concept_class} {attribute} {len(filtered_df)} Number of correct: {sum(correct)} Number of Hallucinated: {str(len(correct) - sum(correct))}\")"
   ],
   "metadata": {
    "collapsed": false,
    "ExecuteTime": {
     "end_time": "2023-10-04T18:24:01.202399Z",
     "start_time": "2023-10-04T18:24:01.192060Z"
    }
   },
   "id": "8cb921c08d58aefa"
  },
  {
   "cell_type": "code",
   "execution_count": 4,
   "outputs": [
    {
     "name": "stdout",
     "output_type": "stream",
     "text": [
      "place borncity 500 Number of correct: 397 Number of Hallucinated: 103\n",
      "place diedcity 472 Number of correct: 271 Number of Hallucinated: 201\n",
      "place city 500 Number of correct: 473 Number of Hallucinated: 27\n"
     ]
    }
   ],
   "source": [
    "meta = metadata[NOBEL_LAUREATES]\n",
    "for concept_class in meta[TARGET_ATTRIBUTES].keys():\n",
    "    for attribute in meta[TARGET_ATTRIBUTES][concept_class]:\n",
    "        filtered_df = df_place[df_place[TARGET_ATTRIBUTES]==attribute]\n",
    "        if len(filtered_df)==0:\n",
    "            continue\n",
    "        correct  = filtered_df.apply(lambda x: score_attribute(concept_class, x[GROUND_TRUTH], x[GPT_4_RESPONSE]), axis=1)\n",
    "        print(f\"{concept_class} {attribute} {len(filtered_df)} Number of correct: {sum(correct)} Number of Hallucinated: {str(len(correct) - sum(correct))}\")"
   ],
   "metadata": {
    "collapsed": false,
    "ExecuteTime": {
     "end_time": "2023-10-04T18:24:01.681337Z",
     "start_time": "2023-10-04T18:24:01.638976Z"
    }
   },
   "id": "e8a9c2610e5ecb8f"
  },
  {
   "cell_type": "code",
   "execution_count": 5,
   "outputs": [],
   "source": [
    "result_entries = df.to_dict('records')\n",
    "for e in range(len(result_entries)):\n",
    "    string = result_entries[e][ICL_PROMPT_COLUMN]\n",
    "    record_found = None\n",
    "    k =0\n",
    "    for c in data:\n",
    "        suffix =[ \n",
    "            c[CONTEXTUALISING_ATTRIBUTES][Attribute.FIRST_NAME.value],\n",
    "        ]\n",
    "        if c[CONTEXTUALISING_ATTRIBUTES][Attribute.SURNAME.value] is not None:\n",
    "            suffix.append(c[CONTEXTUALISING_ATTRIBUTES][Attribute.SURNAME.value])\n",
    "        if c[CONTEXTUALISING_ATTRIBUTES][Attribute.MOTIVATION_NOBEL.value] is not None:\n",
    "            suffix.append(c[CONTEXTUALISING_ATTRIBUTES][Attribute.MOTIVATION_NOBEL.value])\n",
    "        if c[CONTEXTUALISING_ATTRIBUTES][Attribute.CATEGORY_NOBEL.value] is not None:\n",
    "            suffix.append(c[CONTEXTUALISING_ATTRIBUTES][Attribute.CATEGORY_NOBEL.value])\n",
    "        suffix = ', '.join(suffix) + ': '\n",
    "        if string.endswith(suffix):\n",
    "            record_found = c\n",
    "            break\n",
    "    if record_found is None:\n",
    "        print(string)\n",
    "        print(result_entries[e][ICL_PROMPT_COLUMN])\n",
    "    result_entries[e][Attribute.BIRTH_DATE_NOBEL.value] = extract_year(record_found[TARGET_ATTRIBUTES][ConceptClass.YEAR.value][Attribute.BIRTH_DATE_NOBEL.value])\n",
    "    result_entries[e][Attribute.DEATH_DATE_NOBEL.value] = extract_year(record_found[TARGET_ATTRIBUTES][ConceptClass.YEAR.value][Attribute.DEATH_DATE_NOBEL.value])\n",
    "    result_entries[e][Attribute.YEAR.value] = extract_year(record_found[TARGET_ATTRIBUTES][ConceptClass.YEAR.value][Attribute.YEAR.value])\n",
    "    "
   ],
   "metadata": {
    "collapsed": false,
    "ExecuteTime": {
     "end_time": "2023-10-04T18:24:11.413786Z",
     "start_time": "2023-10-04T18:24:10.135732Z"
    }
   },
   "id": "c2dbbcb9b7e97807"
  },
  {
   "cell_type": "code",
   "execution_count": 6,
   "outputs": [],
   "source": [
    "result_entries_place = df_place.to_dict('records')\n",
    "for e in range(len(result_entries_place)):\n",
    "    string = result_entries_place[e][ICL_PROMPT_COLUMN]\n",
    "    record_found = None\n",
    "    k =0\n",
    "    for c in data:\n",
    "        suffix =[ \n",
    "            c[CONTEXTUALISING_ATTRIBUTES][Attribute.FIRST_NAME.value],\n",
    "        ]\n",
    "        if c[CONTEXTUALISING_ATTRIBUTES][Attribute.SURNAME.value] is not None:\n",
    "            suffix.append(c[CONTEXTUALISING_ATTRIBUTES][Attribute.SURNAME.value])\n",
    "        if c[CONTEXTUALISING_ATTRIBUTES][Attribute.MOTIVATION_NOBEL.value] is not None:\n",
    "            suffix.append(c[CONTEXTUALISING_ATTRIBUTES][Attribute.MOTIVATION_NOBEL.value])\n",
    "        if c[CONTEXTUALISING_ATTRIBUTES][Attribute.CATEGORY_NOBEL.value] is not None:\n",
    "            suffix.append(c[CONTEXTUALISING_ATTRIBUTES][Attribute.CATEGORY_NOBEL.value])\n",
    "        suffix = ', '.join(suffix) + ': '\n",
    "        if string.endswith(suffix):\n",
    "            record_found = c\n",
    "            break\n",
    "    if record_found is None:\n",
    "        print(string)\n",
    "        print(result_entries[e][ICL_PROMPT_COLUMN])\n",
    "    result_entries_place[e][Attribute.BIRTH_CITY.value] = record_found[TARGET_ATTRIBUTES][ConceptClass.PLACE.value][Attribute.BIRTH_CITY.value]\n",
    "    result_entries_place[e][Attribute.DEATH_CITY.value] = record_found[TARGET_ATTRIBUTES][ConceptClass.PLACE.value][Attribute.DEATH_CITY.value]\n",
    "    result_entries_place[e][Attribute.WORK_CITY.value] = record_found[TARGET_ATTRIBUTES][ConceptClass.PLACE.value][Attribute.WORK_CITY.value]\n",
    "    "
   ],
   "metadata": {
    "collapsed": false,
    "ExecuteTime": {
     "end_time": "2023-10-04T18:24:12.729596Z",
     "start_time": "2023-10-04T18:24:11.463437Z"
    }
   },
   "id": "c29b97a3aeb0cfbe"
  },
  {
   "cell_type": "code",
   "execution_count": 7,
   "outputs": [],
   "source": [
    "df = pd.DataFrame(result_entries)\n",
    "df_place = pd.DataFrame(result_entries_place)"
   ],
   "metadata": {
    "collapsed": false,
    "ExecuteTime": {
     "end_time": "2023-10-04T18:24:12.736482Z",
     "start_time": "2023-10-04T18:24:12.733594Z"
    }
   },
   "id": "71391b1b8f982aba"
  },
  {
   "cell_type": "code",
   "execution_count": 8,
   "outputs": [],
   "source": [
    "df.to_csv('dataset/icl_query_response_nobel_laureates_year.csv')\n",
    "df_place.to_csv('dataset/icl_query_response_nobel_laureates_place.csv')"
   ],
   "metadata": {
    "collapsed": false,
    "ExecuteTime": {
     "end_time": "2023-10-04T18:24:12.826306Z",
     "start_time": "2023-10-04T18:24:12.736241Z"
    }
   },
   "id": "b5344ccca5dbcfed"
  },
  {
   "cell_type": "code",
   "execution_count": 9,
   "outputs": [],
   "source": [
    "concept_class = ConceptClass.YEAR.value\n",
    "hallucinated_mask = df.apply(lambda x: not score_attribute(concept_class, x[GROUND_TRUTH], x[GPT_4_RESPONSE]), axis=1)\n",
    "correct = df.apply(lambda x:  score_attribute(concept_class, x[GROUND_TRUTH], x[GPT_4_RESPONSE]), axis=1)\n",
    "df_hallucinated = df[hallucinated_mask]\n",
    "df_correct = df[correct]"
   ],
   "metadata": {
    "collapsed": false,
    "ExecuteTime": {
     "end_time": "2023-10-04T18:24:13.474129Z",
     "start_time": "2023-10-04T18:24:13.456344Z"
    }
   },
   "id": "954d0721c87efeb5"
  },
  {
   "cell_type": "code",
   "execution_count": 10,
   "outputs": [
    {
     "data": {
      "text/plain": "died    495\nborn     40\nyear      2\nName: target_attributes, dtype: int64"
     },
     "execution_count": 10,
     "metadata": {},
     "output_type": "execute_result"
    }
   ],
   "source": [
    "df_hallucinated[TARGET_ATTRIBUTES].value_counts()"
   ],
   "metadata": {
    "collapsed": false,
    "ExecuteTime": {
     "end_time": "2023-10-04T18:24:13.955619Z",
     "start_time": "2023-10-04T18:24:13.950750Z"
    }
   },
   "id": "e4ddd343351c10a4"
  },
  {
   "cell_type": "code",
   "execution_count": 11,
   "outputs": [
    {
     "data": {
      "text/plain": "year    498\nborn    460\ndied      4\nName: target_attributes, dtype: int64"
     },
     "execution_count": 11,
     "metadata": {},
     "output_type": "execute_result"
    }
   ],
   "source": [
    "df_correct[TARGET_ATTRIBUTES].value_counts()"
   ],
   "metadata": {
    "collapsed": false,
    "ExecuteTime": {
     "end_time": "2023-10-04T18:24:14.540763Z",
     "start_time": "2023-10-04T18:24:14.535307Z"
    }
   },
   "id": "2a5e110f2f3e9d27"
  },
  {
   "cell_type": "code",
   "execution_count": 12,
   "outputs": [
    {
     "name": "stderr",
     "output_type": "stream",
     "text": [
      "/var/folders/w_/wwps8sw93kvb_43n4h0303tw0000gn/T/ipykernel_20125/3249828240.py:5: SettingWithCopyWarning: \n",
      "A value is trying to be set on a copy of a slice from a DataFrame.\n",
      "Try using .loc[row_indexer,col_indexer] = value instead\n",
      "\n",
      "See the caveats in the documentation: https://pandas.pydata.org/pandas-docs/stable/user_guide/indexing.html#returning-a-view-versus-a-copy\n",
      "  df_attr['equal_Birth_year'] = df_attr.apply(lambda x: score_attribute(concept_class, x[GPT_4_RESPONSE], x[Attribute.BIRTH_DATE_NOBEL.value]), axis=1)\n",
      "/var/folders/w_/wwps8sw93kvb_43n4h0303tw0000gn/T/ipykernel_20125/3249828240.py:6: SettingWithCopyWarning: \n",
      "A value is trying to be set on a copy of a slice from a DataFrame.\n",
      "Try using .loc[row_indexer,col_indexer] = value instead\n",
      "\n",
      "See the caveats in the documentation: https://pandas.pydata.org/pandas-docs/stable/user_guide/indexing.html#returning-a-view-versus-a-copy\n",
      "  df_attr['equals_Award_year'] = df_attr.apply(lambda x: score_attribute(concept_class, x[GPT_4_RESPONSE], x[Attribute.YEAR.value]), axis=1)\n"
     ]
    }
   ],
   "source": [
    "## Analysis of hallucinated death year\n",
    "t_attr = Attribute.DEATH_DATE_NOBEL.value\n",
    "df_attr = df_hallucinated[df_hallucinated[TARGET_ATTRIBUTES]==t_attr]\n",
    "\n",
    "df_attr['equal_Birth_year'] = df_attr.apply(lambda x: score_attribute(concept_class, x[GPT_4_RESPONSE], x[Attribute.BIRTH_DATE_NOBEL.value]), axis=1)\n",
    "df_attr['equals_Award_year'] = df_attr.apply(lambda x: score_attribute(concept_class, x[GPT_4_RESPONSE], x[Attribute.YEAR.value]), axis=1)"
   ],
   "metadata": {
    "collapsed": false,
    "ExecuteTime": {
     "end_time": "2023-10-04T18:24:15.158585Z",
     "start_time": "2023-10-04T18:24:15.016868Z"
    }
   },
   "id": "d0fe66b8d5b35c5f"
  },
  {
   "cell_type": "code",
   "execution_count": 13,
   "outputs": [
    {
     "name": "stdout",
     "output_type": "stream",
     "text": [
      "Number of hallucinated death year: 495\n",
      "Number of hallucinated death year equals birth year: 0\n",
      "Number of hallucinated death year equals award year: 493\n",
      "Number of hallucinated death year equals neither birth year and award year: 2\n"
     ]
    }
   ],
   "source": [
    "print(f\"Number of hallucinated death year: {len(df_attr)}\")\n",
    "print(f\"Number of hallucinated death year equals birth year: {sum(df_attr['equal_Birth_year'])}\")\n",
    "print(f\"Number of hallucinated death year equals award year: {sum(df_attr['equals_Award_year'])}\")\n",
    "print(f\"Number of hallucinated death year equals neither birth year and award year: {sum(~df_attr['equal_Birth_year'] & ~df_attr['equals_Award_year'])}\")"
   ],
   "metadata": {
    "collapsed": false,
    "ExecuteTime": {
     "end_time": "2023-10-04T18:24:15.687916Z",
     "start_time": "2023-10-04T18:24:15.685327Z"
    }
   },
   "id": "e5dd781d545614ac"
  },
  {
   "cell_type": "code",
   "execution_count": 14,
   "outputs": [
    {
     "name": "stderr",
     "output_type": "stream",
     "text": [
      "/var/folders/w_/wwps8sw93kvb_43n4h0303tw0000gn/T/ipykernel_20125/1071796119.py:5: SettingWithCopyWarning: \n",
      "A value is trying to be set on a copy of a slice from a DataFrame.\n",
      "Try using .loc[row_indexer,col_indexer] = value instead\n",
      "\n",
      "See the caveats in the documentation: https://pandas.pydata.org/pandas-docs/stable/user_guide/indexing.html#returning-a-view-versus-a-copy\n",
      "  df_attr['equal_Award_year'] = df_attr.apply(lambda x: score_attribute(concept_class, x[GPT_4_RESPONSE], x[Attribute.YEAR.value]), axis=1)\n",
      "/var/folders/w_/wwps8sw93kvb_43n4h0303tw0000gn/T/ipykernel_20125/1071796119.py:6: SettingWithCopyWarning: \n",
      "A value is trying to be set on a copy of a slice from a DataFrame.\n",
      "Try using .loc[row_indexer,col_indexer] = value instead\n",
      "\n",
      "See the caveats in the documentation: https://pandas.pydata.org/pandas-docs/stable/user_guide/indexing.html#returning-a-view-versus-a-copy\n",
      "  df_attr['equals_Death_year'] = df_attr.apply(lambda x: score_attribute(concept_class, x[GPT_4_RESPONSE], x[Attribute.DEATH_DATE_NOBEL.value]), axis=1)\n"
     ]
    }
   ],
   "source": [
    "## Analysis of hallucinated birth year\n",
    "t_attr = Attribute.BIRTH_DATE_NOBEL.value\n",
    "df_attr = df_hallucinated[df_hallucinated[TARGET_ATTRIBUTES]==t_attr]\n",
    "\n",
    "df_attr['equal_Award_year'] = df_attr.apply(lambda x: score_attribute(concept_class, x[GPT_4_RESPONSE], x[Attribute.YEAR.value]), axis=1)\n",
    "df_attr['equals_Death_year'] = df_attr.apply(lambda x: score_attribute(concept_class, x[GPT_4_RESPONSE], x[Attribute.DEATH_DATE_NOBEL.value]), axis=1)"
   ],
   "metadata": {
    "collapsed": false,
    "ExecuteTime": {
     "end_time": "2023-10-04T18:24:16.154446Z",
     "start_time": "2023-10-04T18:24:16.140812Z"
    }
   },
   "id": "94b52cd38273810b"
  },
  {
   "cell_type": "code",
   "execution_count": 15,
   "outputs": [
    {
     "name": "stdout",
     "output_type": "stream",
     "text": [
      "Number of hallucinated birth year: 40\n",
      "Number of hallucinated birth year equals death year: 0\n",
      "Number of hallucinated birth year equals award year: 33\n",
      "Number of hallucinated birth year equals neither death year and award year: 7\n"
     ]
    }
   ],
   "source": [
    "print(f\"Number of hallucinated birth year: {len(df_attr)}\")\n",
    "print(f\"Number of hallucinated birth year equals death year: {sum(df_attr['equals_Death_year'])}\")\n",
    "print(f\"Number of hallucinated birth year equals award year: {sum(df_attr['equal_Award_year'])}\")\n",
    "print(f\"Number of hallucinated birth year equals neither death year and award year: {sum(~df_attr['equal_Award_year'] & ~df_attr['equals_Death_year'])}\")"
   ],
   "metadata": {
    "collapsed": false,
    "ExecuteTime": {
     "end_time": "2023-10-04T18:24:16.559302Z",
     "start_time": "2023-10-04T18:24:16.552419Z"
    }
   },
   "id": "8e4dac95316f8c4b"
  },
  {
   "cell_type": "code",
   "execution_count": 16,
   "outputs": [
    {
     "name": "stderr",
     "output_type": "stream",
     "text": [
      "/var/folders/w_/wwps8sw93kvb_43n4h0303tw0000gn/T/ipykernel_20125/350485155.py:5: SettingWithCopyWarning: \n",
      "A value is trying to be set on a copy of a slice from a DataFrame.\n",
      "Try using .loc[row_indexer,col_indexer] = value instead\n",
      "\n",
      "See the caveats in the documentation: https://pandas.pydata.org/pandas-docs/stable/user_guide/indexing.html#returning-a-view-versus-a-copy\n",
      "  df_attr['equal_Birth_year'] = df_attr.apply(lambda x: score_attribute(concept_class, x[GPT_4_RESPONSE], x[Attribute.BIRTH_DATE_NOBEL.value]), axis=1)\n",
      "/var/folders/w_/wwps8sw93kvb_43n4h0303tw0000gn/T/ipykernel_20125/350485155.py:6: SettingWithCopyWarning: \n",
      "A value is trying to be set on a copy of a slice from a DataFrame.\n",
      "Try using .loc[row_indexer,col_indexer] = value instead\n",
      "\n",
      "See the caveats in the documentation: https://pandas.pydata.org/pandas-docs/stable/user_guide/indexing.html#returning-a-view-versus-a-copy\n",
      "  df_attr['equals_Death_year'] = df_attr.apply(lambda x: score_attribute(concept_class, x[GPT_4_RESPONSE], x[Attribute.DEATH_DATE_NOBEL.value]), axis=1)\n"
     ]
    }
   ],
   "source": [
    "## Analysis of hallucinated award year\n",
    "t_attr = Attribute.YEAR.value\n",
    "df_attr = df_hallucinated[df_hallucinated[TARGET_ATTRIBUTES]==t_attr]\n",
    "\n",
    "df_attr['equal_Birth_year'] = df_attr.apply(lambda x: score_attribute(concept_class, x[GPT_4_RESPONSE], x[Attribute.BIRTH_DATE_NOBEL.value]), axis=1)\n",
    "df_attr['equals_Death_year'] = df_attr.apply(lambda x: score_attribute(concept_class, x[GPT_4_RESPONSE], x[Attribute.DEATH_DATE_NOBEL.value]), axis=1)"
   ],
   "metadata": {
    "collapsed": false,
    "ExecuteTime": {
     "end_time": "2023-10-04T18:24:17.178357Z",
     "start_time": "2023-10-04T18:24:17.168875Z"
    }
   },
   "id": "3be62eb0ce81e552"
  },
  {
   "cell_type": "code",
   "execution_count": 17,
   "outputs": [
    {
     "name": "stdout",
     "output_type": "stream",
     "text": [
      "Number of hallucinated award year: 2\n",
      "Number of hallucinated award year equals death year: 0\n",
      "Number of hallucinated award year equals birth year: 0\n",
      "Number of hallucinated award year equals neither death year and birth year: 2\n"
     ]
    }
   ],
   "source": [
    "print(f\"Number of hallucinated award year: {len(df_attr)}\")\n",
    "print(f\"Number of hallucinated award year equals death year: {sum(df_attr['equals_Death_year'])}\")\n",
    "print(f\"Number of hallucinated award year equals birth year: {sum(df_attr['equal_Birth_year'])}\")\n",
    "print(f\"Number of hallucinated award year equals neither death year and birth year: {sum(~df_attr['equal_Birth_year'] & ~df_attr['equals_Death_year'])}\")"
   ],
   "metadata": {
    "collapsed": false,
    "ExecuteTime": {
     "end_time": "2023-10-04T18:24:18.241773Z",
     "start_time": "2023-10-04T18:24:18.239638Z"
    }
   },
   "id": "90d5f788e00877c9"
  },
  {
   "cell_type": "code",
   "execution_count": 18,
   "outputs": [],
   "source": [
    "concept_class = ConceptClass.PLACE.value\n",
    "hallucinated_mask = df_place.apply(lambda x: not score_attribute(concept_class, x[GROUND_TRUTH], x[GPT_4_RESPONSE]), axis=1)\n",
    "correct = df_place.apply(lambda x:  score_attribute(concept_class, x[GROUND_TRUTH], x[GPT_4_RESPONSE]), axis=1)\n",
    "df_hallucinated = df_place[hallucinated_mask]\n",
    "df_correct = df_place[correct]"
   ],
   "metadata": {
    "collapsed": false,
    "ExecuteTime": {
     "end_time": "2023-10-04T18:24:19.148672Z",
     "start_time": "2023-10-04T18:24:19.116175Z"
    }
   },
   "id": "89b373a88b33f073"
  },
  {
   "cell_type": "code",
   "execution_count": 19,
   "outputs": [
    {
     "name": "stderr",
     "output_type": "stream",
     "text": [
      "/var/folders/w_/wwps8sw93kvb_43n4h0303tw0000gn/T/ipykernel_20125/2469044563.py:5: SettingWithCopyWarning: \n",
      "A value is trying to be set on a copy of a slice from a DataFrame.\n",
      "Try using .loc[row_indexer,col_indexer] = value instead\n",
      "\n",
      "See the caveats in the documentation: https://pandas.pydata.org/pandas-docs/stable/user_guide/indexing.html#returning-a-view-versus-a-copy\n",
      "  df_attr['equal_Birth_city'] = df_attr.apply(lambda x: score_attribute(concept_class, x[GPT_4_RESPONSE], x[Attribute.BIRTH_CITY.value]), axis=1)\n",
      "/var/folders/w_/wwps8sw93kvb_43n4h0303tw0000gn/T/ipykernel_20125/2469044563.py:6: SettingWithCopyWarning: \n",
      "A value is trying to be set on a copy of a slice from a DataFrame.\n",
      "Try using .loc[row_indexer,col_indexer] = value instead\n",
      "\n",
      "See the caveats in the documentation: https://pandas.pydata.org/pandas-docs/stable/user_guide/indexing.html#returning-a-view-versus-a-copy\n",
      "  df_attr['equals_Work_city'] = df_attr.apply(lambda x: score_attribute(concept_class, x[GPT_4_RESPONSE], x[Attribute.WORK_CITY.value]), axis=1)\n"
     ]
    }
   ],
   "source": [
    "## Analysis of hallucinated death city\n",
    "t_attr = Attribute.DEATH_CITY.value\n",
    "df_attr = df_hallucinated[df_hallucinated[TARGET_ATTRIBUTES]==t_attr]\n",
    "\n",
    "df_attr['equal_Birth_city'] = df_attr.apply(lambda x: score_attribute(concept_class, x[GPT_4_RESPONSE], x[Attribute.BIRTH_CITY.value]), axis=1)\n",
    "df_attr['equals_Work_city'] = df_attr.apply(lambda x: score_attribute(concept_class, x[GPT_4_RESPONSE], x[Attribute.WORK_CITY.value]), axis=1)\n",
    "\n"
   ],
   "metadata": {
    "collapsed": false,
    "ExecuteTime": {
     "end_time": "2023-10-04T18:24:21.482586Z",
     "start_time": "2023-10-04T18:24:21.461496Z"
    }
   },
   "id": "f8837c6e32bf2958"
  },
  {
   "cell_type": "code",
   "execution_count": 20,
   "outputs": [
    {
     "name": "stdout",
     "output_type": "stream",
     "text": [
      "Number of hallucinated death city: 201\n",
      "Number of hallucinated death city equals birth city: 70\n",
      "Number of hallucinated death city equals work city: 79\n",
      "Number of hallucinated death city equals neither birth city and work city: 58\n"
     ]
    }
   ],
   "source": [
    "print(f\"Number of hallucinated death city: {len(df_attr)}\")\n",
    "print(f\"Number of hallucinated death city equals birth city: {sum(df_attr['equal_Birth_city'])}\")\n",
    "print(f\"Number of hallucinated death city equals work city: {sum(df_attr['equals_Work_city'])}\")\n",
    "print(f\"Number of hallucinated death city equals neither birth city and work city: {sum(~df_attr['equal_Birth_city'] & ~df_attr['equals_Work_city'])}\")"
   ],
   "metadata": {
    "collapsed": false,
    "ExecuteTime": {
     "end_time": "2023-10-04T18:24:22.148955Z",
     "start_time": "2023-10-04T18:24:22.147316Z"
    }
   },
   "id": "cebd8559c733c2e3"
  },
  {
   "cell_type": "code",
   "execution_count": 21,
   "outputs": [
    {
     "name": "stderr",
     "output_type": "stream",
     "text": [
      "/var/folders/w_/wwps8sw93kvb_43n4h0303tw0000gn/T/ipykernel_20125/1820394883.py:5: SettingWithCopyWarning: \n",
      "A value is trying to be set on a copy of a slice from a DataFrame.\n",
      "Try using .loc[row_indexer,col_indexer] = value instead\n",
      "\n",
      "See the caveats in the documentation: https://pandas.pydata.org/pandas-docs/stable/user_guide/indexing.html#returning-a-view-versus-a-copy\n",
      "  df_attr['equal_death_city'] = df_attr.apply(lambda x: score_attribute(concept_class, x[GPT_4_RESPONSE], x[Attribute.DEATH_CITY.value]), axis=1)\n",
      "/var/folders/w_/wwps8sw93kvb_43n4h0303tw0000gn/T/ipykernel_20125/1820394883.py:6: SettingWithCopyWarning: \n",
      "A value is trying to be set on a copy of a slice from a DataFrame.\n",
      "Try using .loc[row_indexer,col_indexer] = value instead\n",
      "\n",
      "See the caveats in the documentation: https://pandas.pydata.org/pandas-docs/stable/user_guide/indexing.html#returning-a-view-versus-a-copy\n",
      "  df_attr['equals_Work_city'] = df_attr.apply(lambda x: score_attribute(concept_class, x[GPT_4_RESPONSE], x[Attribute.WORK_CITY.value]), axis=1)\n"
     ]
    }
   ],
   "source": [
    "## Analysis of hallucinated birth city\n",
    "t_attr = Attribute.BIRTH_CITY.value\n",
    "df_attr = df_hallucinated[df_hallucinated[TARGET_ATTRIBUTES]==t_attr]\n",
    "\n",
    "df_attr['equal_death_city'] = df_attr.apply(lambda x: score_attribute(concept_class, x[GPT_4_RESPONSE], x[Attribute.DEATH_CITY.value]), axis=1)\n",
    "df_attr['equals_Work_city'] = df_attr.apply(lambda x: score_attribute(concept_class, x[GPT_4_RESPONSE], x[Attribute.WORK_CITY.value]), axis=1)\n",
    "\n"
   ],
   "metadata": {
    "collapsed": false,
    "ExecuteTime": {
     "end_time": "2023-10-04T18:24:22.618064Z",
     "start_time": "2023-10-04T18:24:22.606003Z"
    }
   },
   "id": "ff73ac09af0a53f2"
  },
  {
   "cell_type": "code",
   "execution_count": 22,
   "outputs": [
    {
     "name": "stdout",
     "output_type": "stream",
     "text": [
      "Number of hallucinated birth city: 103\n",
      "Number of hallucinated birth city equals death city: 44\n",
      "Number of hallucinated birth city equals work city: 54\n",
      "Number of hallucinated birth city equals neither death city and work city: 32\n"
     ]
    }
   ],
   "source": [
    "print(f\"Number of hallucinated birth city: {len(df_attr)}\")\n",
    "print(f\"Number of hallucinated birth city equals death city: {sum(df_attr['equal_death_city'])}\")\n",
    "print(f\"Number of hallucinated birth city equals work city: {sum(df_attr['equals_Work_city'])}\")\n",
    "print(f\"Number of hallucinated birth city equals neither death city and work city: {sum(~df_attr['equal_death_city'] & ~df_attr['equals_Work_city'])}\")"
   ],
   "metadata": {
    "collapsed": false,
    "ExecuteTime": {
     "end_time": "2023-10-04T18:24:23.251807Z",
     "start_time": "2023-10-04T18:24:23.249914Z"
    }
   },
   "id": "c2296e0c473c6a7f"
  },
  {
   "cell_type": "code",
   "execution_count": 24,
   "outputs": [
    {
     "name": "stderr",
     "output_type": "stream",
     "text": [
      "/var/folders/w_/wwps8sw93kvb_43n4h0303tw0000gn/T/ipykernel_20125/1491318869.py:5: SettingWithCopyWarning: \n",
      "A value is trying to be set on a copy of a slice from a DataFrame.\n",
      "Try using .loc[row_indexer,col_indexer] = value instead\n",
      "\n",
      "See the caveats in the documentation: https://pandas.pydata.org/pandas-docs/stable/user_guide/indexing.html#returning-a-view-versus-a-copy\n",
      "  df_attr['equal_death_city'] = df_attr.apply(lambda x: score_attribute(concept_class, x[GPT_4_RESPONSE], x[Attribute.DEATH_CITY.value]), axis=1)\n",
      "/var/folders/w_/wwps8sw93kvb_43n4h0303tw0000gn/T/ipykernel_20125/1491318869.py:6: SettingWithCopyWarning: \n",
      "A value is trying to be set on a copy of a slice from a DataFrame.\n",
      "Try using .loc[row_indexer,col_indexer] = value instead\n",
      "\n",
      "See the caveats in the documentation: https://pandas.pydata.org/pandas-docs/stable/user_guide/indexing.html#returning-a-view-versus-a-copy\n",
      "  df_attr['equals_birth_city'] = df_attr.apply(lambda x: score_attribute(concept_class, x[GPT_4_RESPONSE], x[Attribute.BIRTH_CITY.value]), axis=1)\n"
     ]
    }
   ],
   "source": [
    "## Analysis of hallucinated work city\n",
    "t_attr = Attribute.WORK_CITY.value\n",
    "df_attr = df_hallucinated[df_hallucinated[TARGET_ATTRIBUTES]==t_attr]\n",
    "\n",
    "df_attr['equal_death_city'] = df_attr.apply(lambda x: score_attribute(concept_class, x[GPT_4_RESPONSE], x[Attribute.DEATH_CITY.value]), axis=1)\n",
    "df_attr['equals_birth_city'] = df_attr.apply(lambda x: score_attribute(concept_class, x[GPT_4_RESPONSE], x[Attribute.BIRTH_CITY.value]), axis=1)"
   ],
   "metadata": {
    "collapsed": false,
    "ExecuteTime": {
     "end_time": "2023-10-04T18:27:17.217934Z",
     "start_time": "2023-10-04T18:27:17.174441Z"
    }
   },
   "id": "a84a30bb96c23dc9"
  },
  {
   "cell_type": "code",
   "execution_count": 25,
   "outputs": [
    {
     "name": "stdout",
     "output_type": "stream",
     "text": [
      "Number of hallucinated work city: 27\n",
      "Number of hallucinated work city equals death city: 11\n",
      "Number of hallucinated work city equals birth city: 4\n",
      "Number of hallucinated work city equals neither death city and birth city: 13\n"
     ]
    }
   ],
   "source": [
    "print(f\"Number of hallucinated work city: {len(df_attr)}\")\n",
    "print(f\"Number of hallucinated work city equals death city: {sum(df_attr['equal_death_city'])}\")\n",
    "print(f\"Number of hallucinated work city equals birth city: {sum(df_attr['equals_birth_city'])}\")\n",
    "print(f\"Number of hallucinated work city equals neither death city and birth city: {sum(~df_attr['equal_death_city'] & ~df_attr['equals_birth_city'])}\")"
   ],
   "metadata": {
    "collapsed": false,
    "ExecuteTime": {
     "end_time": "2023-10-04T18:27:31.998526Z",
     "start_time": "2023-10-04T18:27:31.974308Z"
    }
   },
   "id": "4d270fb2183b42b"
  },
  {
   "cell_type": "code",
   "execution_count": null,
   "outputs": [],
   "source": [],
   "metadata": {
    "collapsed": false
   },
   "id": "31fe9f5a103ce968"
  }
 ],
 "metadata": {
  "kernelspec": {
   "display_name": "Python 3",
   "language": "python",
   "name": "python3"
  },
  "language_info": {
   "codemirror_mode": {
    "name": "ipython",
    "version": 2
   },
   "file_extension": ".py",
   "mimetype": "text/x-python",
   "name": "python",
   "nbconvert_exporter": "python",
   "pygments_lexer": "ipython2",
   "version": "2.7.6"
  }
 },
 "nbformat": 4,
 "nbformat_minor": 5
}
