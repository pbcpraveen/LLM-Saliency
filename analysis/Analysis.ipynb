{
 "cells": [
  {
   "cell_type": "code",
   "execution_count": 1,
   "id": "initial_id",
   "metadata": {
    "collapsed": true,
    "ExecuteTime": {
     "end_time": "2023-10-04T10:20:55.635102Z",
     "start_time": "2023-10-04T10:20:55.107865Z"
    }
   },
   "outputs": [],
   "source": [
    "import pandas as pd\n",
    "import itertools\n",
    "import sys\n",
    "import os\n",
    "from pathlib import Path\n",
    "import pickle\n",
    "import pandas as pd\n",
    "import json\n",
    "import openai\n",
    "import pickle\n",
    "import dotenv\n",
    "import random\n",
    "import time\n",
    "path = Path(os.getcwd())\n",
    "sys.path.append(str(path.parent.absolute()))\n",
    "import propmts\n",
    "from common_utils import *\n",
    "from factual_recall_qa.utils import *\n",
    "from constants import *\n",
    "\n"
   ]
  },
  {
   "cell_type": "code",
   "execution_count": 2,
   "outputs": [],
   "source": [
    "setup_directories()\n",
    "with open('../factual_recall_qa/dataset/icl_query_year_nobel_laureates.pickle', 'rb') as handle:\n",
    "    df = pickle.load(handle)\n",
    "with open('../knowledge_validation/dataset/nobel_laureates_attribute_verified.pickle', 'rb') as handle:\n",
    "    data = pickle.load(handle)"
   ],
   "metadata": {
    "collapsed": false,
    "ExecuteTime": {
     "end_time": "2023-10-04T10:20:56.099823Z",
     "start_time": "2023-10-04T10:20:56.062492Z"
    }
   },
   "id": "406b786f8795604b"
  },
  {
   "cell_type": "code",
   "execution_count": 3,
   "outputs": [
    {
     "name": "stdout",
     "output_type": "stream",
     "text": [
      "year born 500 Number of correct: 460 Number of Hallucinated: 40\n",
      "year died 499 Number of correct: 4 Number of Hallucinated: 495\n",
      "year year 500 Number of correct: 498 Number of Hallucinated: 2\n"
     ]
    }
   ],
   "source": [
    "meta = metadata[NOBEL_LAUREATES]\n",
    "for concept_class in meta[TARGET_ATTRIBUTES].keys():\n",
    "    for attribute in meta[TARGET_ATTRIBUTES][concept_class]:\n",
    "        filtered_df = df[df[TARGET_ATTRIBUTES]==attribute]\n",
    "        if len(filtered_df)==0:\n",
    "            continue\n",
    "        correct  = filtered_df.apply(lambda x: score_attribute(concept_class, x[GROUND_TRUTH], x[GPT_4_RESPONSE]), axis=1)\n",
    "        print(f\"{concept_class} {attribute} {len(filtered_df)} Number of correct: {sum(correct)} Number of Hallucinated: {str(len(correct) - sum(correct))}\")"
   ],
   "metadata": {
    "collapsed": false,
    "ExecuteTime": {
     "end_time": "2023-10-04T10:20:56.766570Z",
     "start_time": "2023-10-04T10:20:56.761616Z"
    }
   },
   "id": "8cb921c08d58aefa"
  },
  {
   "cell_type": "code",
   "execution_count": 3,
   "outputs": [],
   "source": [],
   "metadata": {
    "collapsed": false,
    "ExecuteTime": {
     "end_time": "2023-10-04T10:20:58.011539Z",
     "start_time": "2023-10-04T10:20:58.006241Z"
    }
   },
   "id": "fc8e6dbf34361d4f"
  },
  {
   "cell_type": "code",
   "execution_count": 7,
   "outputs": [],
   "source": [
    "result_entries = df.to_dict('records')\n",
    "for e in range(len(result_entries)):\n",
    "    string = result_entries[e][ICL_PROMPT_COLUMN]\n",
    "    record_found = None\n",
    "    k =0\n",
    "    for c in data:\n",
    "        suffix =[ \n",
    "            c[CONTEXTUALISING_ATTRIBUTES][Attribute.FIRST_NAME.value],\n",
    "        ]\n",
    "        if c[CONTEXTUALISING_ATTRIBUTES][Attribute.SURNAME.value] is not None:\n",
    "            suffix.append(c[CONTEXTUALISING_ATTRIBUTES][Attribute.SURNAME.value])\n",
    "        if c[CONTEXTUALISING_ATTRIBUTES][Attribute.MOTIVATION_NOBEL.value] is not None:\n",
    "            suffix.append(c[CONTEXTUALISING_ATTRIBUTES][Attribute.MOTIVATION_NOBEL.value])\n",
    "        if c[CONTEXTUALISING_ATTRIBUTES][Attribute.CATEGORY_NOBEL.value] is not None:\n",
    "            suffix.append(c[CONTEXTUALISING_ATTRIBUTES][Attribute.CATEGORY_NOBEL.value])\n",
    "        suffix = ', '.join(suffix) + ': '\n",
    "        if string.endswith(suffix):\n",
    "            record_found = c\n",
    "            break\n",
    "    if record_found is None:\n",
    "        print(string)\n",
    "        print(result_entries[e][ICL_PROMPT_COLUMN])\n",
    "    result_entries[e][Attribute.BIRTH_DATE_NOBEL.value] = extract_year(record_found[TARGET_ATTRIBUTES][ConceptClass.YEAR.value][Attribute.BIRTH_DATE_NOBEL.value])\n",
    "    result_entries[e][Attribute.DEATH_DATE_NOBEL.value] = extract_year(record_found[TARGET_ATTRIBUTES][ConceptClass.YEAR.value][Attribute.DEATH_DATE_NOBEL.value])\n",
    "    result_entries[e][Attribute.YEAR.value] = extract_year(record_found[TARGET_ATTRIBUTES][ConceptClass.YEAR.value][Attribute.YEAR.value])\n",
    "    # result_entries[e][Attribute.BIRTH_CITY.value] = record_found[TARGET_ATTRIBUTES][ConceptClass.PLACE.value][Attribute.BIRTH_CITY.value]\n",
    "    # result_entries[e][Attribute.DEATH_CITY.value] = record_found[TARGET_ATTRIBUTES][ConceptClass.PLACE.value][Attribute.DEATH_CITY.value]\n",
    "    # result_entries[e][Attribute.WORK_CITY.value] = record_found[TARGET_ATTRIBUTES][ConceptClass.PLACE.value][Attribute.WORK_CITY.value]\n",
    "    "
   ],
   "metadata": {
    "collapsed": false,
    "ExecuteTime": {
     "end_time": "2023-10-04T10:23:52.067290Z",
     "start_time": "2023-10-04T10:23:50.865282Z"
    }
   },
   "id": "c2dbbcb9b7e97807"
  },
  {
   "cell_type": "code",
   "execution_count": 8,
   "outputs": [],
   "source": [
    "df = pd.DataFrame(result_entries)"
   ],
   "metadata": {
    "collapsed": false,
    "ExecuteTime": {
     "end_time": "2023-10-04T10:24:03.820722Z",
     "start_time": "2023-10-04T10:24:03.814237Z"
    }
   },
   "id": "71391b1b8f982aba"
  },
  {
   "cell_type": "code",
   "execution_count": 9,
   "outputs": [],
   "source": [
    "df.to_csv('dataset/icl_query_response_nobel_laureates_year.csv')"
   ],
   "metadata": {
    "collapsed": false,
    "ExecuteTime": {
     "end_time": "2023-10-04T10:24:10.335322Z",
     "start_time": "2023-10-04T10:24:10.279710Z"
    }
   },
   "id": "b5344ccca5dbcfed"
  },
  {
   "cell_type": "code",
   "execution_count": 10,
   "outputs": [
    {
     "data": {
      "text/plain": "                                             icl_prompt ground_truth  \\\n0     Akira, Suzuki, \"for palladium-catalyzed cross ...         1917   \n1     Vitaly L., Ginzburg, \"for pioneering contribut...         1913   \n2     Werner, Forssmann, \"for their discoveries conc...         1946   \n3     Vicente, Aleixandre, \"for a creative poetic wr...         1920   \n4     Vincent, du Vigneaud, \"for his work on biochem...         1905   \n...                                                 ...          ...   \n1494  George, Wald, \"for their discoveries concernin...         1977   \n1495  Thomas C., Südhof, \"for their discoveries of m...         1953   \n1496  Frederick, Sanger, \"for their contributions co...         2006   \n1497  Sir Frank Macfarlane, Burnet, \"for discovery o...         1922   \n1498  Lloyd S., Shapley, \"for the theory of stable a...         1956   \n\n     target_attributes GPT 4 Response  born  died  year  \n0                 born           1917  1917  1985  1972  \n1                 born           1913  1913  2005  1985  \n2                 born           1946  1946  2016  1999  \n3                 born           1920  1920  2017  1981  \n4                 born           1905  1905  1984  1965  \n...                ...            ...   ...   ...   ...  \n1494              year           1977  1917  2003  1977  \n1495              year           1953  1881  1965  1953  \n1496              year           2006  1959  None  2006  \n1497              year           1922  1861  1930  1922  \n1498              year           1956  1910  1989  1956  \n\n[1499 rows x 7 columns]",
      "text/html": "<div>\n<style scoped>\n    .dataframe tbody tr th:only-of-type {\n        vertical-align: middle;\n    }\n\n    .dataframe tbody tr th {\n        vertical-align: top;\n    }\n\n    .dataframe thead th {\n        text-align: right;\n    }\n</style>\n<table border=\"1\" class=\"dataframe\">\n  <thead>\n    <tr style=\"text-align: right;\">\n      <th></th>\n      <th>icl_prompt</th>\n      <th>ground_truth</th>\n      <th>target_attributes</th>\n      <th>GPT 4 Response</th>\n      <th>born</th>\n      <th>died</th>\n      <th>year</th>\n    </tr>\n  </thead>\n  <tbody>\n    <tr>\n      <th>0</th>\n      <td>Akira, Suzuki, \"for palladium-catalyzed cross ...</td>\n      <td>1917</td>\n      <td>born</td>\n      <td>1917</td>\n      <td>1917</td>\n      <td>1985</td>\n      <td>1972</td>\n    </tr>\n    <tr>\n      <th>1</th>\n      <td>Vitaly L., Ginzburg, \"for pioneering contribut...</td>\n      <td>1913</td>\n      <td>born</td>\n      <td>1913</td>\n      <td>1913</td>\n      <td>2005</td>\n      <td>1985</td>\n    </tr>\n    <tr>\n      <th>2</th>\n      <td>Werner, Forssmann, \"for their discoveries conc...</td>\n      <td>1946</td>\n      <td>born</td>\n      <td>1946</td>\n      <td>1946</td>\n      <td>2016</td>\n      <td>1999</td>\n    </tr>\n    <tr>\n      <th>3</th>\n      <td>Vicente, Aleixandre, \"for a creative poetic wr...</td>\n      <td>1920</td>\n      <td>born</td>\n      <td>1920</td>\n      <td>1920</td>\n      <td>2017</td>\n      <td>1981</td>\n    </tr>\n    <tr>\n      <th>4</th>\n      <td>Vincent, du Vigneaud, \"for his work on biochem...</td>\n      <td>1905</td>\n      <td>born</td>\n      <td>1905</td>\n      <td>1905</td>\n      <td>1984</td>\n      <td>1965</td>\n    </tr>\n    <tr>\n      <th>...</th>\n      <td>...</td>\n      <td>...</td>\n      <td>...</td>\n      <td>...</td>\n      <td>...</td>\n      <td>...</td>\n      <td>...</td>\n    </tr>\n    <tr>\n      <th>1494</th>\n      <td>George, Wald, \"for their discoveries concernin...</td>\n      <td>1977</td>\n      <td>year</td>\n      <td>1977</td>\n      <td>1917</td>\n      <td>2003</td>\n      <td>1977</td>\n    </tr>\n    <tr>\n      <th>1495</th>\n      <td>Thomas C., Südhof, \"for their discoveries of m...</td>\n      <td>1953</td>\n      <td>year</td>\n      <td>1953</td>\n      <td>1881</td>\n      <td>1965</td>\n      <td>1953</td>\n    </tr>\n    <tr>\n      <th>1496</th>\n      <td>Frederick, Sanger, \"for their contributions co...</td>\n      <td>2006</td>\n      <td>year</td>\n      <td>2006</td>\n      <td>1959</td>\n      <td>None</td>\n      <td>2006</td>\n    </tr>\n    <tr>\n      <th>1497</th>\n      <td>Sir Frank Macfarlane, Burnet, \"for discovery o...</td>\n      <td>1922</td>\n      <td>year</td>\n      <td>1922</td>\n      <td>1861</td>\n      <td>1930</td>\n      <td>1922</td>\n    </tr>\n    <tr>\n      <th>1498</th>\n      <td>Lloyd S., Shapley, \"for the theory of stable a...</td>\n      <td>1956</td>\n      <td>year</td>\n      <td>1956</td>\n      <td>1910</td>\n      <td>1989</td>\n      <td>1956</td>\n    </tr>\n  </tbody>\n</table>\n<p>1499 rows × 7 columns</p>\n</div>"
     },
     "execution_count": 10,
     "metadata": {},
     "output_type": "execute_result"
    }
   ],
   "source": [
    "df"
   ],
   "metadata": {
    "collapsed": false,
    "ExecuteTime": {
     "end_time": "2023-10-04T10:24:11.609362Z",
     "start_time": "2023-10-04T10:24:11.599353Z"
    }
   },
   "id": "b253165e0c561d5d"
  },
  {
   "cell_type": "code",
   "execution_count": null,
   "outputs": [],
   "source": [
    "for i in data:\n",
    "    if i[CONTEXTUALISING_ATTRIBUTES][Attribute.FIRST_NAME.value] in  :"
   ],
   "metadata": {
    "collapsed": false
   },
   "id": "87eb0da08cd443f"
  }
 ],
 "metadata": {
  "kernelspec": {
   "display_name": "Python 3",
   "language": "python",
   "name": "python3"
  },
  "language_info": {
   "codemirror_mode": {
    "name": "ipython",
    "version": 2
   },
   "file_extension": ".py",
   "mimetype": "text/x-python",
   "name": "python",
   "nbconvert_exporter": "python",
   "pygments_lexer": "ipython2",
   "version": "2.7.6"
  }
 },
 "nbformat": 4,
 "nbformat_minor": 5
}
