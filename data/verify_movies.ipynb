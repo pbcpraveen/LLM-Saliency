{
 "cells": [
  {
   "cell_type": "code",
   "execution_count": 9,
   "metadata": {},
   "outputs": [],
   "source": [
    "import os\n",
    "import pandas as pd\n",
    "import pickle\n",
    "from utils import *\n",
    "from tqdm import tqdm"
   ]
  },
  {
   "cell_type": "code",
   "execution_count": 2,
   "metadata": {},
   "outputs": [],
   "source": [
    "# read dataset\n",
    "movie_path = 'dataset\\movies.pickle'\n",
    "with open(movie_path, 'rb') as mov:\n",
    "    movies = pickle.load(mov)\n",
    "    \n",
    "# movies"
   ]
  },
  {
   "cell_type": "code",
   "execution_count": 3,
   "metadata": {},
   "outputs": [
    {
     "name": "stdout",
     "output_type": "stream",
     "text": [
      "Entity name: The Shawshank Redemption\n",
      "Prompt: What is the full name of the movie with the following associated information?:\n",
      "- Released Year: 1994\n",
      "- Genre: Drama\n",
      "- IMDB Rating: 9.3\n",
      "- No of Votes: 2343110\n",
      "- Certificate: A\n",
      "- Director: Frank Darabont\n",
      "- Star1: Tim Robbins\n",
      "- Star2: Morgan Freeman\n",
      "- Star3: Bob Gunton\n",
      "- Star4: William Sadler\n"
     ]
    }
   ],
   "source": [
    "# generate prompts\n",
    "entities = {}\n",
    "prompts = {}\n",
    "for entity in movies:\n",
    "    title = tuple(entity[CONTEXTUALISING_ATTRIBUTES].items())[0][1] # get the value of the first contextrualising attribute (movie title)\n",
    "    prompt = f\"What is the full name of the {entity['entity']} with the following associated information?:\"\n",
    "    for concept, value in tuple(entity[CONTEXTUALISING_ATTRIBUTES].items())[1:]:\n",
    "        prompt += f\"\\n- {concept.replace('_',' ')}: {value}\"\n",
    "    for concept_class in entity[TARGET_ATTRIBUTES]:\n",
    "        for concept, value in entity[TARGET_ATTRIBUTES][concept_class].items():\n",
    "            prompt += f\"\\n- {concept.replace('_',' ')}: {value}\"\n",
    "    prompts[title] = prompt\n",
    "    entities[title] = entity\n",
    "\n",
    "# sample movie+prompt, for demonstration\n",
    "print(\"Entity name:\", list(prompts.items())[0][0])\n",
    "print(\"Prompt:\", list(prompts.items())[0][1])"
   ]
  },
  {
   "cell_type": "code",
   "execution_count": 4,
   "metadata": {},
   "outputs": [],
   "source": [
    "# evaluation function\n",
    "def entity_scorer (generated:str, target:str):\n",
    "    \"\"\"\n",
    "    Scorer function, comparing the generated text to the target.\n",
    "    Returns True if the generated matches the target, False otherwise\n",
    "    \"\"\"\n",
    "    if target.lower() in generated.lower():\n",
    "        return True\n",
    "    return False"
   ]
  },
  {
   "cell_type": "code",
   "execution_count": 5,
   "metadata": {},
   "outputs": [],
   "source": [
    "# check previously verified entities\n",
    "try:\n",
    "    verified_movie_path = 'dataset\\movies_verified.pickle'\n",
    "    with open(verified_movie_path, 'rb') as ver:\n",
    "        verified = pickle.load(ver)\n",
    "except FileNotFoundError:\n",
    "    verified = []\n",
    "    \n",
    "verified_titles = [tuple(entity[CONTEXTUALISING_ATTRIBUTES].items())[0][1] for entity in verified]"
   ]
  },
  {
   "cell_type": "code",
   "execution_count": 11,
   "metadata": {},
   "outputs": [
    {
     "name": "stderr",
     "output_type": "stream",
     "text": [
      "  0%|          | 0/15 [00:00<?, ?it/s]"
     ]
    },
    {
     "name": "stdout",
     "output_type": "stream",
     "text": [
      "Already verified: The Shawshank Redemption\n",
      "Already verified: The Godfather\n",
      "Already verified: The Dark Knight\n",
      "Already verified: The Godfather: Part II\n",
      "Already verified: 12 Angry Men\n",
      "Already verified: The Lord of the Rings: The Return of the King\n",
      "Already verified: Pulp Fiction\n",
      "Already verified: Schindler's List\n",
      "Already verified: Inception\n",
      "Already verified: Fight Club\n"
     ]
    },
    {
     "name": "stderr",
     "output_type": "stream",
     "text": [
      " 73%|███████▎  | 11/15 [00:01<00:00,  5.62it/s]"
     ]
    },
    {
     "name": "stdout",
     "output_type": "stream",
     "text": [
      "{\n",
      "  \"id\": \"chatcmpl-80HKf1mfAZXg9iRogbQ1cgAdYo9av\",\n",
      "  \"object\": \"chat.completion\",\n",
      "  \"created\": 1695077317,\n",
      "  \"model\": \"gpt-4-0314\",\n",
      "  \"choices\": [\n",
      "    {\n",
      "      \"index\": 0,\n",
      "      \"message\": {\n",
      "        \"role\": \"assistant\",\n",
      "        \"content\": \"The full name of the movie is The Lord of the Rings: The Fellowship of the Ring.\"\n",
      "      },\n",
      "      \"finish_reason\": \"stop\"\n",
      "    }\n",
      "  ],\n",
      "  \"usage\": {\n",
      "    \"prompt_tokens\": 98,\n",
      "    \"completion_tokens\": 19,\n",
      "    \"total_tokens\": 117\n",
      "  }\n",
      "}\n"
     ]
    },
    {
     "name": "stderr",
     "output_type": "stream",
     "text": [
      " 80%|████████  | 12/15 [00:02<00:00,  3.89it/s]"
     ]
    },
    {
     "name": "stdout",
     "output_type": "stream",
     "text": [
      "{\n",
      "  \"id\": \"chatcmpl-80HKhQS9AoCnDpIGK52PXI4bHmWap\",\n",
      "  \"object\": \"chat.completion\",\n",
      "  \"created\": 1695077319,\n",
      "  \"model\": \"gpt-4-0314\",\n",
      "  \"choices\": [\n",
      "    {\n",
      "      \"index\": 0,\n",
      "      \"message\": {\n",
      "        \"role\": \"assistant\",\n",
      "        \"content\": \"Forrest Gump\"\n",
      "      },\n",
      "      \"finish_reason\": \"stop\"\n",
      "    }\n",
      "  ],\n",
      "  \"usage\": {\n",
      "    \"prompt_tokens\": 100,\n",
      "    \"completion_tokens\": 4,\n",
      "    \"total_tokens\": 104\n",
      "  }\n",
      "}\n"
     ]
    },
    {
     "name": "stderr",
     "output_type": "stream",
     "text": [
      " 87%|████████▋ | 13/15 [00:06<00:01,  1.31it/s]"
     ]
    },
    {
     "name": "stdout",
     "output_type": "stream",
     "text": [
      "{\n",
      "  \"id\": \"chatcmpl-80HKhNlEPxbfisOlXomEMT4Eoa0Rx\",\n",
      "  \"object\": \"chat.completion\",\n",
      "  \"created\": 1695077319,\n",
      "  \"model\": \"gpt-4-0314\",\n",
      "  \"choices\": [\n",
      "    {\n",
      "      \"index\": 0,\n",
      "      \"message\": {\n",
      "        \"role\": \"assistant\",\n",
      "        \"content\": \"The full name of the movie is \\\"The Good, the Bad and the Ugly\\\" (Italian: Il buono, il brutto, il cattivo).\"\n",
      "      },\n",
      "      \"finish_reason\": \"stop\"\n",
      "    }\n",
      "  ],\n",
      "  \"usage\": {\n",
      "    \"prompt_tokens\": 100,\n",
      "    \"completion_tokens\": 34,\n",
      "    \"total_tokens\": 134\n",
      "  }\n",
      "}\n"
     ]
    },
    {
     "name": "stderr",
     "output_type": "stream",
     "text": [
      " 93%|█████████▎| 14/15 [00:08<00:00,  1.06it/s]"
     ]
    },
    {
     "name": "stdout",
     "output_type": "stream",
     "text": [
      "{\n",
      "  \"id\": \"chatcmpl-80HKlbMcyyfXPS5DYK9zU8EYSRBDe\",\n",
      "  \"object\": \"chat.completion\",\n",
      "  \"created\": 1695077323,\n",
      "  \"model\": \"gpt-4-0314\",\n",
      "  \"choices\": [\n",
      "    {\n",
      "      \"index\": 0,\n",
      "      \"message\": {\n",
      "        \"role\": \"assistant\",\n",
      "        \"content\": \"The full name of the movie is The Lord of the Rings: The Two Towers.\"\n",
      "      },\n",
      "      \"finish_reason\": \"stop\"\n",
      "    }\n",
      "  ],\n",
      "  \"usage\": {\n",
      "    \"prompt_tokens\": 100,\n",
      "    \"completion_tokens\": 17,\n",
      "    \"total_tokens\": 117\n",
      "  }\n",
      "}\n"
     ]
    },
    {
     "name": "stderr",
     "output_type": "stream",
     "text": [
      "100%|██████████| 15/15 [00:09<00:00,  1.61it/s]"
     ]
    },
    {
     "name": "stdout",
     "output_type": "stream",
     "text": [
      "{\n",
      "  \"id\": \"chatcmpl-80HKnijjGQvg1RA1hJBjYF6Ur6WAR\",\n",
      "  \"object\": \"chat.completion\",\n",
      "  \"created\": 1695077325,\n",
      "  \"model\": \"gpt-4-0314\",\n",
      "  \"choices\": [\n",
      "    {\n",
      "      \"index\": 0,\n",
      "      \"message\": {\n",
      "        \"role\": \"assistant\",\n",
      "        \"content\": \"The Matrix\"\n",
      "      },\n",
      "      \"finish_reason\": \"stop\"\n",
      "    }\n",
      "  ],\n",
      "  \"usage\": {\n",
      "    \"prompt_tokens\": 107,\n",
      "    \"completion_tokens\": 2,\n",
      "    \"total_tokens\": 109\n",
      "  }\n",
      "}\n",
      "# entities correctly identified: 15 out of 15\n"
     ]
    },
    {
     "name": "stderr",
     "output_type": "stream",
     "text": [
      "\n"
     ]
    }
   ],
   "source": [
    "# query model - this does not use the logger at all\n",
    "model='gpt-4-0314'\n",
    "temp=0\n",
    "\n",
    "missed = []\n",
    "prompt_list = list(prompts.items())[:15]\n",
    "pbar = tqdm(total=len(prompt_list))\n",
    "for title, prompt in prompt_list:\n",
    "    if title in verified_titles: # do not repeat entities\n",
    "        print(\"Already verified:\", title)\n",
    "        pbar.update(1)\n",
    "        continue\n",
    "    messages = [{'role':'user', 'content':prompt}]\n",
    "    response = chatgpt_query(messages, model=model, temperature=temp)\n",
    "    if entity_scorer(response, title):\n",
    "        verified.append(entities[title])\n",
    "        verified_titles.append(title)\n",
    "    else:\n",
    "        missed.append(entities[title])\n",
    "    pbar.update(1)\n",
    "pbar.close()\n",
    "print(\"# entities correctly identified:\", len(verified), \"out of\", len(prompt_list))\n",
    "\n",
    "with open('dataset/movies_verified.pickle', 'wb') as handle:\n",
    "    pickle.dump(verified, handle)"
   ]
  },
  {
   "cell_type": "code",
   "execution_count": null,
   "metadata": {},
   "outputs": [],
   "source": []
  }
 ],
 "metadata": {
  "kernelspec": {
   "display_name": "Python 3",
   "language": "python",
   "name": "python3"
  },
  "language_info": {
   "codemirror_mode": {
    "name": "ipython",
    "version": 3
   },
   "file_extension": ".py",
   "mimetype": "text/x-python",
   "name": "python",
   "nbconvert_exporter": "python",
   "pygments_lexer": "ipython3",
   "version": "3.11.3"
  },
  "orig_nbformat": 4
 },
 "nbformat": 4,
 "nbformat_minor": 2
}
